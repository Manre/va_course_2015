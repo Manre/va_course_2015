{
 "cells": [
  {
   "cell_type": "code",
   "execution_count": 27,
   "metadata": {
    "collapsed": true
   },
   "outputs": [],
   "source": [
    "import pandas as pd\n",
    "%matplotlib inline\n",
    "import seaborn as sns\n",
    "from matplotlib import pyplot as plt\n",
    "import numpy as np\n",
    "import random\n",
    "import math\n",
    "import datetime \n",
    "import time\n",
    "sns.set_style(\"darkgrid\")\n",
    "import json\n",
    "import sys"
   ]
  },
  {
   "cell_type": "code",
   "execution_count": 18,
   "metadata": {
    "collapsed": false
   },
   "outputs": [
    {
     "name": "stdout",
     "output_type": "stream",
     "text": [
      "/Users/Manre/Documents/code/va/documentation/data/youtube\n"
     ]
    }
   ],
   "source": [
    "%cd /Users/Manre/Documents/code/va/documentation/data/youtube/"
   ]
  },
  {
   "cell_type": "code",
   "execution_count": 19,
   "metadata": {
    "collapsed": false
   },
   "outputs": [],
   "source": [
    "header_titles = ['video_id','uploader','age','category','length','views','rate', 'ratings', 'comments',\n",
    "                'video1','video2','video3','video4','video5','video6','video7','video8','video9','video10','video11','video12','video13','video14','video15','video16','video17','video18','video19','video20']"
   ]
  },
  {
   "cell_type": "code",
   "execution_count": 20,
   "metadata": {
    "collapsed": false
   },
   "outputs": [
    {
     "data": {
      "text/html": [
       "<div style=\"max-height:1000px;max-width:1500px;overflow:auto;\">\n",
       "<table border=\"1\" class=\"dataframe\">\n",
       "  <thead>\n",
       "    <tr style=\"text-align: right;\">\n",
       "      <th></th>\n",
       "      <th>video_id</th>\n",
       "      <th>uploader</th>\n",
       "      <th>age</th>\n",
       "      <th>category</th>\n",
       "      <th>length</th>\n",
       "      <th>views</th>\n",
       "      <th>rate</th>\n",
       "      <th>ratings</th>\n",
       "      <th>comments</th>\n",
       "      <th>video1</th>\n",
       "      <th>...</th>\n",
       "      <th>video11</th>\n",
       "      <th>video12</th>\n",
       "      <th>video13</th>\n",
       "      <th>video14</th>\n",
       "      <th>video15</th>\n",
       "      <th>video16</th>\n",
       "      <th>video17</th>\n",
       "      <th>video18</th>\n",
       "      <th>video19</th>\n",
       "      <th>video20</th>\n",
       "    </tr>\n",
       "  </thead>\n",
       "  <tbody>\n",
       "    <tr>\n",
       "      <th>0</th>\n",
       "      <td>UoCOooXNTQM</td>\n",
       "      <td>knut9396</td>\n",
       "      <td>746</td>\n",
       "      <td>Sports</td>\n",
       "      <td>2</td>\n",
       "      <td>22063</td>\n",
       "      <td>1.29</td>\n",
       "      <td>56</td>\n",
       "      <td>21</td>\n",
       "      <td>om-n6TZLf08</td>\n",
       "      <td>...</td>\n",
       "      <td>fxKH_9nEQAI</td>\n",
       "      <td>2PfeAxf3Z7k</td>\n",
       "      <td>8pzCoyfDd6c</td>\n",
       "      <td>8avgd-i9QGU</td>\n",
       "      <td>CKoXcJaylAo</td>\n",
       "      <td>7gGJ_bjn6QU</td>\n",
       "      <td>W6H5earlktA</td>\n",
       "      <td>CXGohvNOdv4</td>\n",
       "      <td>gHcuF3B-mV4</td>\n",
       "      <td>68Iy6fN4vzI</td>\n",
       "    </tr>\n",
       "  </tbody>\n",
       "</table>\n",
       "<p>1 rows × 29 columns</p>\n",
       "</div>"
      ],
      "text/plain": [
       "      video_id  uploader  age category  length  views  rate  ratings  \\\n",
       "0  UoCOooXNTQM  knut9396  746   Sports       2  22063  1.29       56   \n",
       "\n",
       "   comments       video1     ...           video11      video12      video13  \\\n",
       "0        21  om-n6TZLf08     ...       fxKH_9nEQAI  2PfeAxf3Z7k  8pzCoyfDd6c   \n",
       "\n",
       "       video14      video15      video16      video17      video18  \\\n",
       "0  8avgd-i9QGU  CKoXcJaylAo  7gGJ_bjn6QU  W6H5earlktA  CXGohvNOdv4   \n",
       "\n",
       "       video19      video20  \n",
       "0  gHcuF3B-mV4  68Iy6fN4vzI  \n",
       "\n",
       "[1 rows x 29 columns]"
      ]
     },
     "execution_count": 20,
     "metadata": {},
     "output_type": "execute_result"
    }
   ],
   "source": [
    "# Reading the dataset\n",
    "df = pd.read_csv('1.txt', header=None, delimiter='\\t', names=header_titles)\n",
    "# Cleaning the data\n",
    "df['category'] = df['category'].fillna('Unknown')\n",
    "df.head(1)"
   ]
  },
  {
   "cell_type": "code",
   "execution_count": 21,
   "metadata": {
    "collapsed": false
   },
   "outputs": [],
   "source": [
    "# Creating the categories dictionary\n",
    "categories = df['category'].value_counts().index.values\n",
    "tmp = {}\n",
    "for i in range(len(categories)):\n",
    "    tmp[categories[i]] = i\n",
    "categories = tmp"
   ]
  },
  {
   "cell_type": "code",
   "execution_count": 22,
   "metadata": {
    "collapsed": false
   },
   "outputs": [],
   "source": [
    "# Creating the nodes array\n",
    "video_names = df[['video_id', 'category']].values\n",
    "nodes = []\n",
    "i = 0\n",
    "for v in video_names:\n",
    "    node = {'name': v[0], 'group': categories[v[1]], 'id': int(i)}\n",
    "    nodes.append(node)\n",
    "    i+=1"
   ]
  },
  {
   "cell_type": "code",
   "execution_count": 23,
   "metadata": {
    "collapsed": false
   },
   "outputs": [],
   "source": [
    "# Creating the links array\n",
    "\n",
    "def findIdFromNode(searchedName, nodes):\n",
    "    '''\n",
    "    This function will search for the ID of the given node\n",
    "    '''\n",
    "    for node in nodes:\n",
    "        if node['name'] == searchedName:\n",
    "            return node\n",
    "links = []\n",
    "for node in nodes:\n",
    "    # Obtaining the node\n",
    "    video_name = node['name']\n",
    "    # Searching the video in the DataFrame\n",
    "    video_id = df[df['video_id']==video_name]\n",
    "    # Finding the relations\n",
    "    link = {}\n",
    "    for i in range(9,28):# 28\n",
    "        header = header_titles[i]\n",
    "        videoN = video_id[header].values[0]\n",
    "        child = findIdFromNode(videoN, nodes)\n",
    "        if child != None:\n",
    "            link = {\"source\": node[\"id\"], \"target\": child[\"id\"], \"value\": 1}\n",
    "            links.append(link)"
   ]
  },
  {
   "cell_type": "code",
   "execution_count": 24,
   "metadata": {
    "collapsed": false
   },
   "outputs": [],
   "source": [
    "output = {'nodes': nodes, 'links': links}"
   ]
  },
  {
   "cell_type": "code",
   "execution_count": null,
   "metadata": {
    "collapsed": true
   },
   "outputs": [],
   "source": []
  },
  {
   "cell_type": "code",
   "execution_count": 31,
   "metadata": {
    "collapsed": false
   },
   "outputs": [],
   "source": [
    "# sys.stdout = open('log.txt', 'w')\n",
    "# print output"
   ]
  },
  {
   "cell_type": "code",
   "execution_count": null,
   "metadata": {
    "collapsed": false
   },
   "outputs": [],
   "source": [
    "# Standarization o mean removal\n",
    "# Min max scaling"
   ]
  },
  {
   "cell_type": "code",
   "execution_count": null,
   "metadata": {
    "collapsed": true
   },
   "outputs": [],
   "source": []
  }
 ],
 "metadata": {
  "kernelspec": {
   "display_name": "Python 2",
   "language": "python",
   "name": "python2"
  },
  "language_info": {
   "codemirror_mode": {
    "name": "ipython",
    "version": 2
   },
   "file_extension": ".py",
   "mimetype": "text/x-python",
   "name": "python",
   "nbconvert_exporter": "python",
   "pygments_lexer": "ipython2",
   "version": "2.7.9"
  }
 },
 "nbformat": 4,
 "nbformat_minor": 0
}
