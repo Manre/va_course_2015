{
 "cells": [
  {
   "cell_type": "code",
   "execution_count": 2,
   "metadata": {
    "collapsed": true
   },
   "outputs": [],
   "source": [
    "import pandas as pd\n",
    "%matplotlib inline\n",
    "import seaborn as sns\n",
    "from matplotlib import pyplot as plt\n",
    "import numpy as np\n",
    "import json\n",
    "sns.set_style(\"darkgrid\")\n",
    "# Clustering\n",
    "from sklearn.datasets import load_iris\n",
    "import pylab as pl\n",
    "from itertools import cycle\n",
    "from sklearn.cluster import KMeans\n",
    "from numpy.random import RandomState"
   ]
  },
  {
   "cell_type": "code",
   "execution_count": 3,
   "metadata": {
    "collapsed": false
   },
   "outputs": [
    {
     "name": "stdout",
     "output_type": "stream",
     "text": [
      "/Users/Manre/Documents/code/va/documentation/data/youtube\n"
     ]
    }
   ],
   "source": [
    "%cd /Users/Manre/Documents/code/va/documentation/data/youtube/"
   ]
  },
  {
   "cell_type": "code",
   "execution_count": 4,
   "metadata": {
    "collapsed": true
   },
   "outputs": [],
   "source": [
    "df = pd.read_csv(\"0.txt\", sep=\"\\t\", header=None)"
   ]
  },
  {
   "cell_type": "markdown",
   "metadata": {},
   "source": []
  },
  {
   "cell_type": "code",
   "execution_count": 10,
   "metadata": {
    "collapsed": true
   },
   "outputs": [],
   "source": [
    "df.columns = ['name', 'uploader', 'age', 'category', 'length', 'views', 'rate', 'group', 'comments', 'related_video 1', 'related_video 2', 'related_video 3', 'related_video 4', 'related_video 5', 'related_video 6', 'related_video 7', 'related_video 8', 'related_video 9', 'related_video 10', 'related_video 11', 'related_video 12', 'related_video 13', 'related_video 14', 'related_video 15', 'related_video 16', 'related_video 17', 'related_video 18', 'related_video 19', 'related_video 20']"
   ]
  },
  {
   "cell_type": "code",
   "execution_count": 11,
   "metadata": {
    "collapsed": true
   },
   "outputs": [],
   "source": [
    "df['age'] = df['age'].fillna(0)\n",
    "df['views'] = df['views'].fillna(0)\n",
    "df['rate'] = df['rate'].fillna(0)\n",
    "df['category'] = df['category'].fillna('Unknown')\n",
    "df['length'] = df['length'].fillna(0)"
   ]
  },
  {
   "cell_type": "code",
   "execution_count": 13,
   "metadata": {
    "collapsed": false
   },
   "outputs": [
    {
     "data": {
      "text/plain": [
       "{'Autos & Vehicles': {'id': 10},\n",
       " 'Comedy': {'id': 5},\n",
       " 'Entertainment': {'id': 0},\n",
       " 'Film & Animation': {'id': 3},\n",
       " 'Gadgets & Games': {'id': 12},\n",
       " 'Howto & DIY': {'id': 9},\n",
       " 'Music': {'id': 6},\n",
       " 'News & Politics': {'id': 4},\n",
       " 'People & Blogs': {'id': 1},\n",
       " 'Pets & Animals': {'id': 7},\n",
       " 'Sports': {'id': 2},\n",
       " 'Travel & Places': {'id': 11},\n",
       " 'Unknown': {'id': 8}}"
      ]
     },
     "execution_count": 13,
     "metadata": {},
     "output_type": "execute_result"
    }
   ],
   "source": [
    "# Creating the categories dictionary\n",
    "categories = df['category'].value_counts().index.values\n",
    "tmp = {}\n",
    "for i in range(len(categories)):\n",
    "    tmp[categories[i]] = {'id': i}\n",
    "categories = tmp\n",
    "categories"
   ]
  },
  {
   "cell_type": "code",
   "execution_count": 9,
   "metadata": {
    "collapsed": false
   },
   "outputs": [
    {
     "name": "stdout",
     "output_type": "stream",
     "text": [
      "People & Blogs\n",
      "{'People & Blogs': {'id': 1}, 'Comedy': {'id': 5}, 'Entertainment': {'id': 0}, 'Unknown': {'id': 8}, 'Howto & DIY': {'id': 9}, 'Gadgets & Games': {'id': 12}, 'News & Politics': {'id': 4}, 'Pets & Animals': {'id': 7}, 'Music': {'id': 6}, 'Travel & Places': {'id': 11}, 'Sports': {'id': 2}, 'Autos & Vehicles': {'id': 10}, 'Film & Animation': {'id': 3}}\n",
      "Entertainment\n",
      "{'People & Blogs': {'id': 1}, 'Comedy': {'id': 5}, 'Entertainment': {'id': 0}, 'Unknown': {'id': 8}, 'Howto & DIY': {'id': 9}, 'Gadgets & Games': {'id': 12}, 'News & Politics': {'id': 4}, 'Pets & Animals': {'id': 7}, 'Music': {'id': 6}, 'Travel & Places': {'id': 11}, 'Sports': {'id': 2}, 'Autos & Vehicles': {'id': 10}, 'Film & Animation': {'id': 3}}\n",
      "Unknown\n",
      "{'People & Blogs': {'id': 1}, 'Comedy': {'id': 5}, 'Entertainment': {'id': 0}, 'Unknown': {'id': 8}, 'Howto & DIY': {'id': 9}, 'Gadgets & Games': {'id': 12}, 'News & Politics': {'id': 4}, 'Pets & Animals': {'id': 7}, 'Music': {'id': 6}, 'Travel & Places': {'id': 11}, 'Sports': {'id': 2}, 'Autos & Vehicles': {'id': 10}, 'Film & Animation': {'id': 3}}\n",
      "Howto & DIY\n",
      "{'People & Blogs': {'id': 1}, 'Comedy': {'id': 5}, 'Entertainment': {'id': 0}, 'Unknown': {'id': 8}, 'Howto & DIY': {'id': 9}, 'Gadgets & Games': {'id': 12}, 'News & Politics': {'id': 4}, 'Pets & Animals': {'id': 7}, 'Music': {'id': 6}, 'Travel & Places': {'id': 11}, 'Sports': {'id': 2}, 'Autos & Vehicles': {'id': 10}, 'Film & Animation': {'id': 3}}\n",
      "Gadgets & Games\n",
      "{'People & Blogs': {'id': 1}, 'Comedy': {'id': 5}, 'Entertainment': {'id': 0}, 'Unknown': {'id': 8}, 'Howto & DIY': {'id': 9}, 'Gadgets & Games': {'id': 12}, 'News & Politics': {'id': 4}, 'Pets & Animals': {'id': 7}, 'Music': {'id': 6}, 'Travel & Places': {'id': 11}, 'Sports': {'id': 2}, 'Autos & Vehicles': {'id': 10}, 'Film & Animation': {'id': 3}}\n",
      "News & Politics\n",
      "{'People & Blogs': {'id': 1}, 'Comedy': {'id': 5}, 'Entertainment': {'id': 0}, 'Unknown': {'id': 8}, 'Howto & DIY': {'id': 9}, 'Gadgets & Games': {'id': 12}, 'News & Politics': {'id': 4}, 'Pets & Animals': {'id': 7}, 'Music': {'id': 6}, 'Travel & Places': {'id': 11}, 'Sports': {'id': 2}, 'Autos & Vehicles': {'id': 10}, 'Film & Animation': {'id': 3}}\n",
      "Sports\n",
      "{'People & Blogs': {'id': 1}, 'Comedy': {'id': 5}, 'Entertainment': {'id': 0}, 'Unknown': {'id': 8}, 'Howto & DIY': {'id': 9}, 'Gadgets & Games': {'id': 12}, 'News & Politics': {'id': 4}, 'Pets & Animals': {'id': 7}, 'Music': {'id': 6}, 'Travel & Places': {'id': 11}, 'Sports': {'id': 2}, 'Autos & Vehicles': {'id': 10}, 'Film & Animation': {'id': 3}}\n",
      "Pets & Animals\n",
      "{'People & Blogs': {'id': 1}, 'Comedy': {'id': 5}, 'Entertainment': {'id': 0}, 'Unknown': {'id': 8}, 'Howto & DIY': {'id': 9}, 'Gadgets & Games': {'id': 12}, 'News & Politics': {'id': 4}, 'Pets & Animals': {'id': 7}, 'Music': {'id': 6}, 'Travel & Places': {'id': 11}, 'Sports': {'id': 2}, 'Autos & Vehicles': {'id': 10}, 'Film & Animation': {'id': 3}}\n",
      "Music\n",
      "{'People & Blogs': {'id': 1}, 'Comedy': {'id': 5}, 'Entertainment': {'id': 0}, 'Unknown': {'id': 8}, 'Howto & DIY': {'id': 9}, 'Gadgets & Games': {'id': 12}, 'News & Politics': {'id': 4}, 'Pets & Animals': {'id': 7}, 'Music': {'id': 6}, 'Travel & Places': {'id': 11}, 'Sports': {'id': 2}, 'Autos & Vehicles': {'id': 10}, 'Film & Animation': {'id': 3}}\n",
      "Travel & Places\n",
      "{'People & Blogs': {'id': 1}, 'Comedy': {'id': 5}, 'Entertainment': {'id': 0}, 'Unknown': {'id': 8}, 'Howto & DIY': {'id': 9}, 'Gadgets & Games': {'id': 12}, 'News & Politics': {'id': 4}, 'Pets & Animals': {'id': 7}, 'Music': {'id': 6}, 'Travel & Places': {'id': 11}, 'Sports': {'id': 2}, 'Autos & Vehicles': {'id': 10}, 'Film & Animation': {'id': 3}}\n",
      "Comedy\n",
      "{'People & Blogs': {'id': 1}, 'Comedy': {'id': 5}, 'Entertainment': {'id': 0}, 'Unknown': {'id': 8}, 'Howto & DIY': {'id': 9}, 'Gadgets & Games': {'id': 12}, 'News & Politics': {'id': 4}, 'Pets & Animals': {'id': 7}, 'Music': {'id': 6}, 'Travel & Places': {'id': 11}, 'Sports': {'id': 2}, 'Autos & Vehicles': {'id': 10}, 'Film & Animation': {'id': 3}}\n",
      "Autos & Vehicles\n",
      "{'People & Blogs': {'id': 1}, 'Comedy': {'id': 5}, 'Entertainment': {'id': 0}, 'Unknown': {'id': 8}, 'Howto & DIY': {'id': 9}, 'Gadgets & Games': {'id': 12}, 'News & Politics': {'id': 4}, 'Pets & Animals': {'id': 7}, 'Music': {'id': 6}, 'Travel & Places': {'id': 11}, 'Sports': {'id': 2}, 'Autos & Vehicles': {'id': 10}, 'Film & Animation': {'id': 3}}\n",
      "Film & Animation\n",
      "{'People & Blogs': {'id': 1}, 'Comedy': {'id': 5}, 'Entertainment': {'id': 0}, 'Unknown': {'id': 8}, 'Howto & DIY': {'id': 9}, 'Gadgets & Games': {'id': 12}, 'News & Politics': {'id': 4}, 'Pets & Animals': {'id': 7}, 'Music': {'id': 6}, 'Travel & Places': {'id': 11}, 'Sports': {'id': 2}, 'Autos & Vehicles': {'id': 10}, 'Film & Animation': {'id': 3}}\n"
     ]
    }
   ],
   "source": [
    "for category in categories:\n",
    "    print category\n",
    "    subcategory = categories.copy()\n",
    "    print subcategory\n",
    "    categories[category] = subcategory\n",
    "#     tmp_cat[category] = subcategories.co\n",
    "# print tmp_cat['People & Blogs']['People & Blogs']['People & Blogs']\n"
   ]
  },
  {
   "cell_type": "code",
   "execution_count": 165,
   "metadata": {
    "collapsed": false
   },
   "outputs": [
    {
     "name": "stdout",
     "output_type": "stream",
     "text": [
      "Searching videos for category: People & Blogs\n",
      "I have found 38 videos from that category\n",
      "Video found: UQJHwR0g5Ug\n",
      "..Related video 1: UQJHwR0g5Ug - category: People & Blogs\n",
      "..Category: People & Blogs is related with :People & Blogs\n",
      "Video found: STHRL1wjq4c\n",
      "..Related video 1: hqXAjHHXQFg - category: Unknown\n",
      "..Category: People & Blogs is related with :Unknown\n",
      "Video found: KiyKASEwgNI\n",
      "..Related video 1: SGxkJukpJy4 - category: News & Politics\n",
      "..Category: People & Blogs is related with :News & Politics\n",
      "Video found: 9snZoMALP1Q\n",
      "..Related video 1: p5CGQr_cDIg - category: People & Blogs\n",
      "..Category: People & Blogs is related with :People & Blogs\n",
      "Video found: p5CGQr_cDIg\n",
      "..Related video 1: 9snZoMALP1Q - category: People & Blogs\n",
      "..Category: People & Blogs is related with :People & Blogs\n",
      "Video found: Zboc4chABIU\n",
      "..Related video 1: SGxkJukpJy4 - category: News & Politics\n",
      "..Category: People & Blogs is related with :News & Politics\n",
      "Video found: QLdiJ6zVvk0\n",
      "..Related video 1: SGxkJukpJy4 - category: News & Politics\n",
      "..Category: People & Blogs is related with :News & Politics\n",
      "Video found: 160BuK8OydE\n",
      "..Related video 1: zlVRRr6IJxU - category: Unknown\n",
      "..Category: People & Blogs is related with :Unknown\n",
      "Video found: a-rCXpDsTcw\n",
      "..Related video 1: uWvcEabsH58 - category: Unknown\n",
      "..Category: People & Blogs is related with :Unknown\n",
      "Video found: Ke2lQwXbEZw\n",
      "..Related video 1: pymm9aUfq-U - category: Unknown\n",
      "..Category: People & Blogs is related with :Unknown\n",
      "Video found: RxVsI7vrtJE\n",
      "..Related video 1: aPQ8_sAzu_k - category: Unknown\n",
      "..Category: People & Blogs is related with :Unknown\n",
      "Video found: nsjuPX8C2lo\n",
      "..Related video 1: DXnEJZashzo - category: Unknown\n",
      "..Category: People & Blogs is related with :Unknown\n",
      "Video found: z_wyfmeyOC0\n",
      "..Related video 1: DahUTco3bpk - category: Unknown\n",
      "..Category: People & Blogs is related with :Unknown\n",
      "Video found: uCD0BGk8Ibk\n",
      "..Related video 1: 8KJrvir-jtg - category: Unknown\n",
      "..Category: People & Blogs is related with :Unknown\n",
      "Video found: VOZOVGKM-Sg\n",
      "..Related video 1: VF9CqglI2ys - category: Unknown\n",
      "..Category: People & Blogs is related with :Unknown\n",
      "Video found: YOOOujaBbyw\n",
      "..Related video 1: fXY1rxQEcCo - category: Unknown\n",
      "..Category: People & Blogs is related with :Unknown\n",
      "Video found: M1PWXiUs4yM\n",
      "..Related video 1: v5_7oxH4iTw - category: Unknown\n",
      "..Category: People & Blogs is related with :Unknown\n",
      "Video found: _i0vSBSC6_I\n",
      "..Related video 1: f2onN5vsmC0 - category: Unknown\n",
      "..Category: People & Blogs is related with :Unknown\n",
      "Video found: SVZPqbkgDkg\n",
      "..Related video 1: NQEWE6kui2c - category: Unknown\n",
      "..Category: People & Blogs is related with :Unknown\n",
      "Video found: QurrQsNJy_Q\n",
      "..Related video 1: r3--GhKgE5M - category: Unknown\n",
      "..Category: People & Blogs is related with :Unknown\n",
      "Video found: VG6RLBLuPYQ\n",
      "..Related video 1: nBgnNQKW3wE - category: Unknown\n",
      "..Category: People & Blogs is related with :Unknown\n",
      "Video found: tC7zTRDIrgY\n",
      "..Related video 1: i0v6WKLcE1w - category: Unknown\n",
      "..Category: People & Blogs is related with :Unknown\n",
      "Video found: IA3OtvDFb6g\n",
      "..Related video 1: SGxkJukpJy4 - category: News & Politics\n",
      "..Category: People & Blogs is related with :News & Politics\n",
      "Video found: TsSm-g38OdI\n",
      "..Related video 1: wyfNe8KhEU4 - category: Unknown\n",
      "..Category: People & Blogs is related with :Unknown\n",
      "Video found: 7KzVU_tkpkk\n",
      "..Related video 1: 20Er2w7luIg - category: Unknown\n",
      "..Category: People & Blogs is related with :Unknown\n",
      "Video found: -XdeADDUHVg\n",
      "..Related video 1: kRi-pV_FuBI - category: Unknown\n",
      "..Category: People & Blogs is related with :Unknown\n",
      "Video found: i2bzM-8u-UM\n",
      "..Related video 1: bijpMiQPwjc - category: Unknown\n",
      "..Category: People & Blogs is related with :Unknown\n",
      "Video found: JOhwQBH8wUs\n",
      "..Related video 1: 61kp8G3vr2o - category: Comedy\n",
      "..Category: People & Blogs is related with :Comedy\n",
      "Video found: g646AE_SZxE\n",
      "..Related video 1: 6V_dnWDnJ8Q - category: Unknown\n",
      "..Category: People & Blogs is related with :Unknown\n",
      "Video found: DzfEdp4liZQ\n",
      "..Related video 1: bqVoD0wA2uA - category: Unknown\n",
      "..Category: People & Blogs is related with :Unknown\n",
      "Video found: hfowleOB8Mk\n",
      "..Related video 1: arhNcJqHwxo - category: Unknown\n",
      "..Category: People & Blogs is related with :Unknown\n",
      "Video found: RvDdlHqfYd8\n",
      "..Related video 1: EsqpgsV2xV0 - category: Unknown\n",
      "..Category: People & Blogs is related with :Unknown\n",
      "Video found: kFiKNiZps7E\n",
      "..Related video 1: PvOsbOBPQ28 - category: Unknown\n",
      "..Category: People & Blogs is related with :Unknown\n",
      "Video found: kyecgpjLEDM\n",
      "..Related video 1: qYQWui63wFg - category: Unknown\n",
      "..Category: People & Blogs is related with :Unknown\n",
      "Video found: bHdNtClaMmY\n",
      "..Related video 1: pBUDZgnEj4c - category: Unknown\n",
      "..Category: People & Blogs is related with :Unknown\n",
      "Video found: SpMvyb4EY5k\n",
      "..Related video 1: tOKwXTDawP4 - category: Unknown\n",
      "..Category: People & Blogs is related with :Unknown\n",
      "Video found: 9gyIJ2suYkI\n",
      "..Related video 1: z9mRhBhXnf4 - category: Unknown\n",
      "..Category: People & Blogs is related with :Unknown\n",
      "Video found: bWpyHjruJCs\n",
      "..Related video 1: 3qOPRVKCkAQ - category: Unknown\n",
      "..Category: People & Blogs is related with :Unknown\n"
     ]
    }
   ],
   "source": [
    "def findCategoryFrom(video):\n",
    "    tmp = df[df['name'] == video]\n",
    "    return 'Unknown' if tmp.empty else tmp.values[0][3]\n",
    "\n",
    "for category in categories:\n",
    "    print 'Searching videos for category: ' + category\n",
    "    matrix_videos = df[df['category'] == category].values\n",
    "    print 'I have found ' + str(len(matrix_videos)) + ' videos from that category'\n",
    "    for video in matrix_videos:\n",
    "        video_name = video[0]\n",
    "        print 'Video found: ' + video_name\n",
    "        for i in range(9,29):\n",
    "            related_video = str(video[i])\n",
    "            related_video_category = findCategoryFrom(related_video)\n",
    "#             categories[related_video_category]['sum'] += 1\n",
    "#             a = categories[related_video_category]['sum']\n",
    "            print '..Related video ' + str(i-8) + ': ' + related_video + ' - category: ' + related_video_category #+ ' a: ' + str(a)\n",
    "            print '..Category: ' + category + ' is related with :' + related_video_category\n",
    "            break\n",
    "    break\n",
    "    "
   ]
  },
  {
   "cell_type": "code",
   "execution_count": 162,
   "metadata": {
    "collapsed": false
   },
   "outputs": [
    {
     "data": {
      "text/plain": [
       "{'Autos & Vehicles': {'id': 10, 'sum': 30},\n",
       " 'Comedy': {'id': 5, 'sum': 32},\n",
       " 'Entertainment': {'id': 0, 'sum': 30},\n",
       " 'Film & Animation': {'id': 3, 'sum': 30},\n",
       " 'Gadgets & Games': {'id': 12, 'sum': 30},\n",
       " 'Howto & DIY': {'id': 9, 'sum': 30},\n",
       " 'Music': {'id': 6, 'sum': 30},\n",
       " 'News & Politics': {'id': 4, 'sum': 38},\n",
       " 'People & Blogs': {'id': 1, 'sum': 37},\n",
       " 'Pets & Animals': {'id': 7, 'sum': 30},\n",
       " 'Sports': {'id': 2, 'sum': 30},\n",
       " 'Travel & Places': {'id': 11, 'sum': 30},\n",
       " 'Unknown': {'id': 8, 'sum': 90}}"
      ]
     },
     "execution_count": 162,
     "metadata": {},
     "output_type": "execute_result"
    }
   ],
   "source": [
    "categories"
   ]
  },
  {
   "cell_type": "code",
   "execution_count": null,
   "metadata": {
    "collapsed": true
   },
   "outputs": [],
   "source": []
  }
 ],
 "metadata": {
  "kernelspec": {
   "display_name": "Python 2",
   "language": "python",
   "name": "python2"
  },
  "language_info": {
   "codemirror_mode": {
    "name": "ipython",
    "version": 2
   },
   "file_extension": ".py",
   "mimetype": "text/x-python",
   "name": "python",
   "nbconvert_exporter": "python",
   "pygments_lexer": "ipython2",
   "version": "2.7.9"
  }
 },
 "nbformat": 4,
 "nbformat_minor": 0
}
