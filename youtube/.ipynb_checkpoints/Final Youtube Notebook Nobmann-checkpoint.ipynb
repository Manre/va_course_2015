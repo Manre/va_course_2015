{
 "cells": [
  {
   "cell_type": "code",
   "execution_count": 1,
   "metadata": {
    "collapsed": true
   },
   "outputs": [],
   "source": [
    "import pandas as pd\n",
    "%matplotlib inline\n",
    "import seaborn as sns\n",
    "from matplotlib import pyplot as plt\n",
    "import numpy as np\n",
    "import json\n",
    "sns.set_style(\"darkgrid\")\n",
    "# Clustering\n",
    "from sklearn.datasets import load_iris\n",
    "import pylab as pl\n",
    "from itertools import cycle\n",
    "from sklearn.cluster import KMeans\n",
    "from numpy.random import RandomState"
   ]
  },
  {
   "cell_type": "code",
   "execution_count": 16,
   "metadata": {
    "collapsed": false
   },
   "outputs": [
    {
     "name": "stdout",
     "output_type": "stream",
     "text": [
      "/Users/Manre/Documents/code/va/documentation/data/youtube\n"
     ]
    }
   ],
   "source": [
    "%cd /Users/Manre/Documents/code/va/documentation/data/youtube/"
   ]
  },
  {
   "cell_type": "code",
   "execution_count": 58,
   "metadata": {
    "collapsed": true
   },
   "outputs": [],
   "source": [
    "df = pd.read_csv(\"0.txt\", sep=\"\\t\", header=None)"
   ]
  },
  {
   "cell_type": "code",
   "execution_count": 59,
   "metadata": {
    "collapsed": true
   },
   "outputs": [],
   "source": [
    "df.columns = ['name', 'uploader', 'age', 'category', 'length', 'views', 'rate', 'group', 'comments', 'related_video 1', 'related_video 2', 'related_video 3', 'related_video 4', 'related_video 5', 'related_video 6', 'related_video 7', 'related_video 8', 'related_video 9', 'related_video 10', 'related_video 11', 'related_video 12', 'related_video 13', 'related_video 14', 'related_video 15', 'related_video 16', 'related_video 17', 'related_video 18', 'related_video 19', 'related_video 20']"
   ]
  },
  {
   "cell_type": "code",
   "execution_count": 60,
   "metadata": {
    "collapsed": true
   },
   "outputs": [],
   "source": [
    "df['age'] = df['age'].fillna(0)\n",
    "df['views'] = df['views'].fillna(0)\n",
    "df['rate'] = df['rate'].fillna(0)\n",
    "df['category'] = df['category'].fillna('Unknown')\n",
    "df['length'] = df['length'].fillna(0)"
   ]
  },
  {
   "cell_type": "code",
   "execution_count": 61,
   "metadata": {
    "collapsed": false
   },
   "outputs": [],
   "source": [
    "# Creating the categories dictionary\n",
    "categories = df['category'].value_counts().index.values\n",
    "tmp = {}\n",
    "for i in range(len(categories)):\n",
    "    tmp[categories[i]] = {'id': i}\n",
    "categories = tmp\n"
   ]
  },
  {
   "cell_type": "code",
   "execution_count": 62,
   "metadata": {
    "collapsed": false
   },
   "outputs": [],
   "source": [
    "for c in categories:\n",
    "    tmp = categories[c]\n",
    "    for c2 in categories:\n",
    "        tmp[c2] = 0\n"
   ]
  },
  {
   "cell_type": "code",
   "execution_count": 72,
   "metadata": {
    "collapsed": false
   },
   "outputs": [],
   "source": [
    "def findCategoryFrom(video):\n",
    "    tmp = df[df['name'] == video]\n",
    "    return 'Video not found' if tmp.empty else tmp.values[0][3]\n",
    "\n",
    "for category in categories:\n",
    "#     print 'Searching videos for category: ' + category\n",
    "    matrix_videos = df[df['category'] == category].values\n",
    "#     print 'I have found ' + str(len(matrix_videos)) + ' videos from that category'\n",
    "    for video in matrix_videos:\n",
    "        video_name = video[0]\n",
    "#         print 'Video found: ' + video_name\n",
    "        for i in range(9,29):\n",
    "            related_video = str(video[i])\n",
    "            related_video_category = findCategoryFrom(related_video)\n",
    "            if related_video_category != 'Video not found':\n",
    "                categories[category][related_video_category] += 1\n",
    "                a = categories[category][related_video_category]\n",
    "#             print '..Related video ' + str(i-8) + ': ' + related_video + ' - category: ' + related_video_category #+ ' a: ' + str(a)\n",
    "#             print '..Category: ' + category + ' is related with :' + related_video_category"
   ]
  },
  {
   "cell_type": "code",
   "execution_count": 73,
   "metadata": {
    "collapsed": false
   },
   "outputs": [
    {
     "data": {
      "text/plain": [
       "{'Autos & Vehicles': {'Autos & Vehicles': 0,\n",
       "  'Comedy': 0,\n",
       "  'Entertainment': 0,\n",
       "  'Film & Animation': 0,\n",
       "  'Gadgets & Games': 0,\n",
       "  'Howto & DIY': 0,\n",
       "  'Music': 0,\n",
       "  'News & Politics': 0,\n",
       "  'People & Blogs': 0,\n",
       "  'Pets & Animals': 0,\n",
       "  'Sports': 0,\n",
       "  'Travel & Places': 0,\n",
       "  'Unknown': 80,\n",
       "  'id': 10},\n",
       " 'Comedy': {'Autos & Vehicles': 0,\n",
       "  'Comedy': 20,\n",
       "  'Entertainment': 0,\n",
       "  'Film & Animation': 0,\n",
       "  'Gadgets & Games': 0,\n",
       "  'Howto & DIY': 0,\n",
       "  'Music': 0,\n",
       "  'News & Politics': 0,\n",
       "  'People & Blogs': 4,\n",
       "  'Pets & Animals': 0,\n",
       "  'Sports': 4,\n",
       "  'Travel & Places': 0,\n",
       "  'Unknown': 746,\n",
       "  'id': 5},\n",
       " 'Entertainment': {'Autos & Vehicles': 0,\n",
       "  'Comedy': 0,\n",
       "  'Entertainment': 380,\n",
       "  'Film & Animation': 20,\n",
       "  'Gadgets & Games': 0,\n",
       "  'Howto & DIY': 0,\n",
       "  'Music': 0,\n",
       "  'News & Politics': 8,\n",
       "  'People & Blogs': 4,\n",
       "  'Pets & Animals': 0,\n",
       "  'Sports': 0,\n",
       "  'Travel & Places': 0,\n",
       "  'Unknown': 1634,\n",
       "  'id': 0},\n",
       " 'Film & Animation': {'Autos & Vehicles': 0,\n",
       "  'Comedy': 0,\n",
       "  'Entertainment': 16,\n",
       "  'Film & Animation': 212,\n",
       "  'Gadgets & Games': 0,\n",
       "  'Howto & DIY': 0,\n",
       "  'Music': 0,\n",
       "  'News & Politics': 16,\n",
       "  'People & Blogs': 16,\n",
       "  'Pets & Animals': 4,\n",
       "  'Sports': 0,\n",
       "  'Travel & Places': 0,\n",
       "  'Unknown': 828,\n",
       "  'id': 3},\n",
       " 'Gadgets & Games': {'Autos & Vehicles': 0,\n",
       "  'Comedy': 0,\n",
       "  'Entertainment': 4,\n",
       "  'Film & Animation': 0,\n",
       "  'Gadgets & Games': 0,\n",
       "  'Howto & DIY': 0,\n",
       "  'Music': 0,\n",
       "  'News & Politics': 0,\n",
       "  'People & Blogs': 0,\n",
       "  'Pets & Animals': 0,\n",
       "  'Sports': 0,\n",
       "  'Travel & Places': 0,\n",
       "  'Unknown': 78,\n",
       "  'id': 12},\n",
       " 'Howto & DIY': {'Autos & Vehicles': 0,\n",
       "  'Comedy': 0,\n",
       "  'Entertainment': 0,\n",
       "  'Film & Animation': 0,\n",
       "  'Gadgets & Games': 0,\n",
       "  'Howto & DIY': 0,\n",
       "  'Music': 0,\n",
       "  'News & Politics': 0,\n",
       "  'People & Blogs': 0,\n",
       "  'Pets & Animals': 0,\n",
       "  'Sports': 0,\n",
       "  'Travel & Places': 0,\n",
       "  'Unknown': 120,\n",
       "  'id': 9},\n",
       " 'Music': {'Autos & Vehicles': 0,\n",
       "  'Comedy': 0,\n",
       "  'Entertainment': 0,\n",
       "  'Film & Animation': 0,\n",
       "  'Gadgets & Games': 0,\n",
       "  'Howto & DIY': 0,\n",
       "  'Music': 4,\n",
       "  'News & Politics': 0,\n",
       "  'People & Blogs': 0,\n",
       "  'Pets & Animals': 0,\n",
       "  'Sports': 0,\n",
       "  'Travel & Places': 0,\n",
       "  'Unknown': 398,\n",
       "  'id': 6},\n",
       " 'News & Politics': {'Autos & Vehicles': 0,\n",
       "  'Comedy': 0,\n",
       "  'Entertainment': 4,\n",
       "  'Film & Animation': 0,\n",
       "  'Gadgets & Games': 0,\n",
       "  'Howto & DIY': 0,\n",
       "  'Music': 0,\n",
       "  'News & Politics': 104,\n",
       "  'People & Blogs': 64,\n",
       "  'Pets & Animals': 16,\n",
       "  'Sports': 0,\n",
       "  'Travel & Places': 0,\n",
       "  'Unknown': 786,\n",
       "  'id': 4},\n",
       " 'People & Blogs': {'Autos & Vehicles': 0,\n",
       "  'Comedy': 4,\n",
       "  'Entertainment': 0,\n",
       "  'Film & Animation': 0,\n",
       "  'Gadgets & Games': 0,\n",
       "  'Howto & DIY': 0,\n",
       "  'Music': 0,\n",
       "  'News & Politics': 64,\n",
       "  'People & Blogs': 121,\n",
       "  'Pets & Animals': 48,\n",
       "  'Sports': 0,\n",
       "  'Travel & Places': 0,\n",
       "  'Unknown': 1402,\n",
       "  'id': 1},\n",
       " 'Pets & Animals': {'Autos & Vehicles': 0,\n",
       "  'Comedy': 0,\n",
       "  'Entertainment': 0,\n",
       "  'Film & Animation': 0,\n",
       "  'Gadgets & Games': 0,\n",
       "  'Howto & DIY': 0,\n",
       "  'Music': 0,\n",
       "  'News & Politics': 16,\n",
       "  'People & Blogs': 16,\n",
       "  'Pets & Animals': 0,\n",
       "  'Sports': 0,\n",
       "  'Travel & Places': 0,\n",
       "  'Unknown': 184,\n",
       "  'id': 7},\n",
       " 'Sports': {'Autos & Vehicles': 0,\n",
       "  'Comedy': 4,\n",
       "  'Entertainment': 0,\n",
       "  'Film & Animation': 0,\n",
       "  'Gadgets & Games': 0,\n",
       "  'Howto & DIY': 0,\n",
       "  'Music': 0,\n",
       "  'News & Politics': 0,\n",
       "  'People & Blogs': 0,\n",
       "  'Pets & Animals': 0,\n",
       "  'Sports': 268,\n",
       "  'Travel & Places': 0,\n",
       "  'Unknown': 1184,\n",
       "  'id': 2},\n",
       " 'Travel & Places': {'Autos & Vehicles': 0,\n",
       "  'Comedy': 0,\n",
       "  'Entertainment': 0,\n",
       "  'Film & Animation': 0,\n",
       "  'Gadgets & Games': 0,\n",
       "  'Howto & DIY': 0,\n",
       "  'Music': 0,\n",
       "  'News & Politics': 0,\n",
       "  'People & Blogs': 0,\n",
       "  'Pets & Animals': 0,\n",
       "  'Sports': 0,\n",
       "  'Travel & Places': 0,\n",
       "  'Unknown': 80,\n",
       "  'id': 11},\n",
       " 'Unknown': {'Autos & Vehicles': 0,\n",
       "  'Comedy': 0,\n",
       "  'Entertainment': 0,\n",
       "  'Film & Animation': 0,\n",
       "  'Gadgets & Games': 0,\n",
       "  'Howto & DIY': 0,\n",
       "  'Music': 0,\n",
       "  'News & Politics': 0,\n",
       "  'People & Blogs': 0,\n",
       "  'Pets & Animals': 0,\n",
       "  'Sports': 0,\n",
       "  'Travel & Places': 0,\n",
       "  'Unknown': 160,\n",
       "  'id': 8}}"
      ]
     },
     "execution_count": 73,
     "metadata": {},
     "output_type": "execute_result"
    }
   ],
   "source": [
    "categories"
   ]
  },
  {
   "cell_type": "code",
   "execution_count": null,
   "metadata": {
    "collapsed": true
   },
   "outputs": [],
   "source": []
  },
  {
   "cell_type": "code",
   "execution_count": null,
   "metadata": {
    "collapsed": true
   },
   "outputs": [],
   "source": []
  }
 ],
 "metadata": {
  "kernelspec": {
   "display_name": "Python 2",
   "language": "python",
   "name": "python2"
  },
  "language_info": {
   "codemirror_mode": {
    "name": "ipython",
    "version": 2
   },
   "file_extension": ".py",
   "mimetype": "text/x-python",
   "name": "python",
   "nbconvert_exporter": "python",
   "pygments_lexer": "ipython2",
   "version": "2.7.9"
  }
 },
 "nbformat": 4,
 "nbformat_minor": 0
}
