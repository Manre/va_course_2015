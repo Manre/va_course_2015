{
 "cells": [
  {
   "cell_type": "code",
   "execution_count": 35,
   "metadata": {
    "collapsed": true
   },
   "outputs": [],
   "source": [
    "import pandas as pd\n",
    "%matplotlib inline\n",
    "import seaborn as sns\n",
    "from matplotlib import pyplot as plt\n",
    "import numpy as np\n",
    "import random\n",
    "import math\n",
    "import datetime \n",
    "import time\n",
    "sns.set_style(\"darkgrid\")\n",
    "import json\n"
   ]
  },
  {
   "cell_type": "code",
   "execution_count": 36,
   "metadata": {
    "collapsed": false
   },
   "outputs": [
    {
     "name": "stdout",
     "output_type": "stream",
     "text": [
      "/Users/Manre/Documents/code/va/documentation/data/youtube\n"
     ]
    }
   ],
   "source": [
    "%cd /Users/Manre/Documents/code/va/documentation/data/youtube/"
   ]
  },
  {
   "cell_type": "code",
   "execution_count": 41,
   "metadata": {
    "collapsed": false
   },
   "outputs": [],
   "source": [
    "header_titles = ['video_id','uploader','age','category','length','views','rate', 'ratings', 'comments',\n",
    "                'video1','video2','video3','video4','video5','video6','video7','video8','video9','video10','video11','video12','video13','video14','video15','video16','video17','video18','video19','video20']"
   ]
  },
  {
   "cell_type": "code",
   "execution_count": 195,
   "metadata": {
    "collapsed": false
   },
   "outputs": [
    {
     "data": {
      "text/html": [
       "<div style=\"max-height:1000px;max-width:1500px;overflow:auto;\">\n",
       "<table border=\"1\" class=\"dataframe\">\n",
       "  <thead>\n",
       "    <tr style=\"text-align: right;\">\n",
       "      <th></th>\n",
       "      <th>video_id</th>\n",
       "      <th>uploader</th>\n",
       "      <th>age</th>\n",
       "      <th>category</th>\n",
       "      <th>length</th>\n",
       "      <th>views</th>\n",
       "      <th>rate</th>\n",
       "      <th>ratings</th>\n",
       "      <th>comments</th>\n",
       "      <th>video1</th>\n",
       "      <th>...</th>\n",
       "      <th>video11</th>\n",
       "      <th>video12</th>\n",
       "      <th>video13</th>\n",
       "      <th>video14</th>\n",
       "      <th>video15</th>\n",
       "      <th>video16</th>\n",
       "      <th>video17</th>\n",
       "      <th>video18</th>\n",
       "      <th>video19</th>\n",
       "      <th>video20</th>\n",
       "    </tr>\n",
       "  </thead>\n",
       "  <tbody>\n",
       "    <tr>\n",
       "      <th>0</th>\n",
       "      <td>UQJHwR0g5Ug</td>\n",
       "      <td>lonelygirl15</td>\n",
       "      <td>747</td>\n",
       "      <td>People &amp; Blogs</td>\n",
       "      <td>99</td>\n",
       "      <td>206367</td>\n",
       "      <td>2.33</td>\n",
       "      <td>1324</td>\n",
       "      <td>1068</td>\n",
       "      <td>UQJHwR0g5Ug</td>\n",
       "      <td>...</td>\n",
       "      <td>KGRx8TgZEeU</td>\n",
       "      <td>aQWdqI1vd6o</td>\n",
       "      <td>kzwa8NBlUeo</td>\n",
       "      <td>X3ctuFCCF5k</td>\n",
       "      <td>Ble9N2kDiGc</td>\n",
       "      <td>R24FONE2CDs</td>\n",
       "      <td>IAY5q60CmYY</td>\n",
       "      <td>mUd0hcEnHiU</td>\n",
       "      <td>6OUcp6UJ2bA</td>\n",
       "      <td>dv0Y_uoHrLc</td>\n",
       "    </tr>\n",
       "  </tbody>\n",
       "</table>\n",
       "<p>1 rows × 29 columns</p>\n",
       "</div>"
      ],
      "text/plain": [
       "      video_id      uploader  age        category  length   views  rate  \\\n",
       "0  UQJHwR0g5Ug  lonelygirl15  747  People & Blogs      99  206367  2.33   \n",
       "\n",
       "   ratings  comments       video1     ...           video11      video12  \\\n",
       "0     1324      1068  UQJHwR0g5Ug     ...       KGRx8TgZEeU  aQWdqI1vd6o   \n",
       "\n",
       "       video13      video14      video15      video16      video17  \\\n",
       "0  kzwa8NBlUeo  X3ctuFCCF5k  Ble9N2kDiGc  R24FONE2CDs  IAY5q60CmYY   \n",
       "\n",
       "       video18      video19      video20  \n",
       "0  mUd0hcEnHiU  6OUcp6UJ2bA  dv0Y_uoHrLc  \n",
       "\n",
       "[1 rows x 29 columns]"
      ]
     },
     "execution_count": 195,
     "metadata": {},
     "output_type": "execute_result"
    }
   ],
   "source": [
    "# Reading the dataset\n",
    "df = pd.read_csv('0.txt', header=None, delimiter='\\t', names=header_titles)\n",
    "# Cleaning the data\n",
    "df['category'] = df['category'].fillna('Unknown')\n",
    "df.head(1)"
   ]
  },
  {
   "cell_type": "code",
   "execution_count": 106,
   "metadata": {
    "collapsed": false
   },
   "outputs": [],
   "source": [
    "# Creating the categories dictionary\n",
    "categories = df['category'].value_counts().index.values\n",
    "tmp = {}\n",
    "for i in range(len(categories)):\n",
    "    tmp[categories[i]] = i\n",
    "categories = tmp"
   ]
  },
  {
   "cell_type": "code",
   "execution_count": 293,
   "metadata": {
    "collapsed": false
   },
   "outputs": [],
   "source": [
    "# Creating the nodes array\n",
    "video_names = df[['video_id', 'category']].values\n",
    "nodes = []\n",
    "i = 0\n",
    "for v in video_names:\n",
    "    node = {'name': v[0], 'group': categories[v[1]], 'id': int(i)}\n",
    "    nodes.append(node)\n",
    "    i+=1"
   ]
  },
  {
   "cell_type": "code",
   "execution_count": 295,
   "metadata": {
    "collapsed": false
   },
   "outputs": [],
   "source": [
    "# Creating the links array\n",
    "\n",
    "def findIdFromNode(searchedName, nodes):\n",
    "    '''\n",
    "    This function will search for the ID of the given node\n",
    "    '''\n",
    "    for node in nodes:\n",
    "        if node['name'] == searchedName:\n",
    "            return node\n",
    "links = []\n",
    "for node in nodes:\n",
    "    # Obtaining the node\n",
    "    video_name = node['name']\n",
    "    # Searching the video in the DataFrame\n",
    "    video_id = df[df['video_id']==video_name]\n",
    "    # Finding the relations\n",
    "    link = {}\n",
    "    for i in range(9,28):# 28\n",
    "        header = header_titles[i]\n",
    "        videoN = video_id[header].values[0]\n",
    "        child = findIdFromNode(videoN, nodes)\n",
    "        if child != None:\n",
    "            link = {\"source\": node[\"id\"], \"target\": child[\"id\"]}\n",
    "            links.append(link)"
   ]
  },
  {
   "cell_type": "code",
   "execution_count": 238,
   "metadata": {
    "collapsed": false
   },
   "outputs": [],
   "source": []
  },
  {
   "cell_type": "code",
   "execution_count": 236,
   "metadata": {
    "collapsed": false
   },
   "outputs": [],
   "source": []
  },
  {
   "cell_type": "code",
   "execution_count": null,
   "metadata": {
    "collapsed": false
   },
   "outputs": [],
   "source": []
  },
  {
   "cell_type": "code",
   "execution_count": null,
   "metadata": {
    "collapsed": true
   },
   "outputs": [],
   "source": []
  }
 ],
 "metadata": {
  "kernelspec": {
   "display_name": "Python 2",
   "language": "python",
   "name": "python2"
  },
  "language_info": {
   "codemirror_mode": {
    "name": "ipython",
    "version": 2
   },
   "file_extension": ".py",
   "mimetype": "text/x-python",
   "name": "python",
   "nbconvert_exporter": "python",
   "pygments_lexer": "ipython2",
   "version": "2.7.9"
  }
 },
 "nbformat": 4,
 "nbformat_minor": 0
}
